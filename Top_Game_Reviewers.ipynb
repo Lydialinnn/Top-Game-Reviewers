{
 "cells": [
  {
   "cell_type": "code",
   "execution_count": 2,
   "id": "a7ffd6a0",
   "metadata": {},
   "outputs": [],
   "source": [
    "import pandas as pd"
   ]
  },
  {
   "cell_type": "code",
   "execution_count": 3,
   "id": "56d4cec0",
   "metadata": {},
   "outputs": [
    {
     "name": "stderr",
     "output_type": "stream",
     "text": [
      "/Users/zhengyanlin/opt/anaconda3/lib/python3.9/site-packages/IPython/core/interactiveshell.py:3444: DtypeWarning: Columns (0,3,5) have mixed types.Specify dtype option on import or set low_memory=False.\n",
      "  exec(code_obj, self.user_global_ns, self.user_ns)\n"
     ]
    }
   ],
   "source": [
    "review_info=pd.read_csv('/Users/zhengyanlin/Desktop/Data/game review case/review_info.csv')"
   ]
  },
  {
   "cell_type": "code",
   "execution_count": 4,
   "id": "fa9c3437",
   "metadata": {},
   "outputs": [],
   "source": [
    "author_info=pd.read_csv('/Users/zhengyanlin/Desktop/Data/game review case/author_info.csv')"
   ]
  },
  {
   "cell_type": "code",
   "execution_count": 5,
   "id": "04c7311d",
   "metadata": {},
   "outputs": [],
   "source": [
    "author_info.rename(columns={'author.steamid':'steam_id'},inplace=True)"
   ]
  },
  {
   "cell_type": "code",
   "execution_count": 6,
   "id": "b3f9eca4",
   "metadata": {},
   "outputs": [
    {
     "data": {
      "text/plain": [
       "review_id                           int64\n",
       "steam_id                            int64\n",
       "author.num_games_owned              int64\n",
       "author.num_reviews                  int64\n",
       "author.playtime_forever           float64\n",
       "author.playtime_last_two_weeks    float64\n",
       "author.playtime_at_review         float64\n",
       "author.last_played                float64\n",
       "dtype: object"
      ]
     },
     "execution_count": 6,
     "metadata": {},
     "output_type": "execute_result"
    }
   ],
   "source": [
    "author_info.dtypes"
   ]
  },
  {
   "cell_type": "code",
   "execution_count": 7,
   "id": "274cb6db",
   "metadata": {},
   "outputs": [],
   "source": [
    "author_info['steam_id']=author_info['steam_id'].astype('string')"
   ]
  },
  {
   "cell_type": "code",
   "execution_count": 8,
   "id": "e8a0bd33",
   "metadata": {},
   "outputs": [
    {
     "data": {
      "text/plain": [
       "review_id                           int64\n",
       "steam_id                           string\n",
       "author.num_games_owned              int64\n",
       "author.num_reviews                  int64\n",
       "author.playtime_forever           float64\n",
       "author.playtime_last_two_weeks    float64\n",
       "author.playtime_at_review         float64\n",
       "author.last_played                float64\n",
       "dtype: object"
      ]
     },
     "execution_count": 8,
     "metadata": {},
     "output_type": "execute_result"
    }
   ],
   "source": [
    "author_info.dtypes"
   ]
  },
  {
   "cell_type": "code",
   "execution_count": 9,
   "id": "0f18cdc5",
   "metadata": {},
   "outputs": [],
   "source": [
    "df=pd.merge(left=review_info, right=author_info, on='review_id', how='left')"
   ]
  },
  {
   "cell_type": "code",
   "execution_count": 10,
   "id": "18037c16",
   "metadata": {},
   "outputs": [],
   "source": [
    "#group data by steam_id and calculate how many 'voted helpful' each user has, rank in desc order"
   ]
  },
  {
   "cell_type": "code",
   "execution_count": 11,
   "id": "dd8351cc",
   "metadata": {},
   "outputs": [
    {
     "data": {
      "text/html": [
       "<div>\n",
       "<style scoped>\n",
       "    .dataframe tbody tr th:only-of-type {\n",
       "        vertical-align: middle;\n",
       "    }\n",
       "\n",
       "    .dataframe tbody tr th {\n",
       "        vertical-align: top;\n",
       "    }\n",
       "\n",
       "    .dataframe thead th {\n",
       "        text-align: right;\n",
       "    }\n",
       "</style>\n",
       "<table border=\"1\" class=\"dataframe\">\n",
       "  <thead>\n",
       "    <tr style=\"text-align: right;\">\n",
       "      <th></th>\n",
       "      <th>steam_id</th>\n",
       "      <th>votes_helpful</th>\n",
       "    </tr>\n",
       "  </thead>\n",
       "  <tbody>\n",
       "    <tr>\n",
       "      <th>586596</th>\n",
       "      <td>76561198301678331</td>\n",
       "      <td>26149.0</td>\n",
       "    </tr>\n",
       "    <tr>\n",
       "      <th>243715</th>\n",
       "      <td>76561198068792591</td>\n",
       "      <td>15526.0</td>\n",
       "    </tr>\n",
       "    <tr>\n",
       "      <th>342363</th>\n",
       "      <td>76561198107977827</td>\n",
       "      <td>14349.0</td>\n",
       "    </tr>\n",
       "    <tr>\n",
       "      <th>220174</th>\n",
       "      <td>76561198060932732</td>\n",
       "      <td>10610.0</td>\n",
       "    </tr>\n",
       "    <tr>\n",
       "      <th>486322</th>\n",
       "      <td>76561198193312194</td>\n",
       "      <td>10495.0</td>\n",
       "    </tr>\n",
       "  </tbody>\n",
       "</table>\n",
       "</div>"
      ],
      "text/plain": [
       "                 steam_id  votes_helpful\n",
       "586596  76561198301678331        26149.0\n",
       "243715  76561198068792591        15526.0\n",
       "342363  76561198107977827        14349.0\n",
       "220174  76561198060932732        10610.0\n",
       "486322  76561198193312194        10495.0"
      ]
     },
     "execution_count": 11,
     "metadata": {},
     "output_type": "execute_result"
    }
   ],
   "source": [
    "top_voted_reviews=df.groupby('steam_id')['votes_helpful'].sum().reset_index().sort_values('votes_helpful',ascending=False)\n",
    "top_voted_reviews.head()"
   ]
  },
  {
   "cell_type": "code",
   "execution_count": 12,
   "id": "119dcd00",
   "metadata": {},
   "outputs": [
    {
     "data": {
      "text/html": [
       "<div>\n",
       "<style scoped>\n",
       "    .dataframe tbody tr th:only-of-type {\n",
       "        vertical-align: middle;\n",
       "    }\n",
       "\n",
       "    .dataframe tbody tr th {\n",
       "        vertical-align: top;\n",
       "    }\n",
       "\n",
       "    .dataframe thead th {\n",
       "        text-align: right;\n",
       "    }\n",
       "</style>\n",
       "<table border=\"1\" class=\"dataframe\">\n",
       "  <thead>\n",
       "    <tr style=\"text-align: right;\">\n",
       "      <th></th>\n",
       "      <th>steam_id</th>\n",
       "      <th>votes_helpful</th>\n",
       "    </tr>\n",
       "  </thead>\n",
       "  <tbody>\n",
       "    <tr>\n",
       "      <th>586596</th>\n",
       "      <td>76561198301678331</td>\n",
       "      <td>26149.0</td>\n",
       "    </tr>\n",
       "    <tr>\n",
       "      <th>243715</th>\n",
       "      <td>76561198068792591</td>\n",
       "      <td>15526.0</td>\n",
       "    </tr>\n",
       "    <tr>\n",
       "      <th>342363</th>\n",
       "      <td>76561198107977827</td>\n",
       "      <td>14349.0</td>\n",
       "    </tr>\n",
       "    <tr>\n",
       "      <th>220174</th>\n",
       "      <td>76561198060932732</td>\n",
       "      <td>10610.0</td>\n",
       "    </tr>\n",
       "    <tr>\n",
       "      <th>486322</th>\n",
       "      <td>76561198193312194</td>\n",
       "      <td>10495.0</td>\n",
       "    </tr>\n",
       "    <tr>\n",
       "      <th>...</th>\n",
       "      <td>...</td>\n",
       "      <td>...</td>\n",
       "    </tr>\n",
       "    <tr>\n",
       "      <th>154471</th>\n",
       "      <td>76561198038847694</td>\n",
       "      <td>0.0</td>\n",
       "    </tr>\n",
       "    <tr>\n",
       "      <th>444186</th>\n",
       "      <td>76561198158003620</td>\n",
       "      <td>0.0</td>\n",
       "    </tr>\n",
       "    <tr>\n",
       "      <th>444185</th>\n",
       "      <td>76561198158002751</td>\n",
       "      <td>0.0</td>\n",
       "    </tr>\n",
       "    <tr>\n",
       "      <th>444184</th>\n",
       "      <td>76561198158001692</td>\n",
       "      <td>0.0</td>\n",
       "    </tr>\n",
       "    <tr>\n",
       "      <th>799206</th>\n",
       "      <td>76561199132116020</td>\n",
       "      <td>0.0</td>\n",
       "    </tr>\n",
       "  </tbody>\n",
       "</table>\n",
       "<p>799207 rows × 2 columns</p>\n",
       "</div>"
      ],
      "text/plain": [
       "                 steam_id  votes_helpful\n",
       "586596  76561198301678331        26149.0\n",
       "243715  76561198068792591        15526.0\n",
       "342363  76561198107977827        14349.0\n",
       "220174  76561198060932732        10610.0\n",
       "486322  76561198193312194        10495.0\n",
       "...                   ...            ...\n",
       "154471  76561198038847694            0.0\n",
       "444186  76561198158003620            0.0\n",
       "444185  76561198158002751            0.0\n",
       "444184  76561198158001692            0.0\n",
       "799206  76561199132116020            0.0\n",
       "\n",
       "[799207 rows x 2 columns]"
      ]
     },
     "execution_count": 12,
     "metadata": {},
     "output_type": "execute_result"
    }
   ],
   "source": [
    "top_voted_reviews"
   ]
  },
  {
   "cell_type": "code",
   "execution_count": 160,
   "id": "e4635216",
   "metadata": {},
   "outputs": [
    {
     "data": {
      "text/html": [
       "<div>\n",
       "<style scoped>\n",
       "    .dataframe tbody tr th:only-of-type {\n",
       "        vertical-align: middle;\n",
       "    }\n",
       "\n",
       "    .dataframe tbody tr th {\n",
       "        vertical-align: top;\n",
       "    }\n",
       "\n",
       "    .dataframe thead th {\n",
       "        text-align: right;\n",
       "    }\n",
       "</style>\n",
       "<table border=\"1\" class=\"dataframe\">\n",
       "  <thead>\n",
       "    <tr style=\"text-align: right;\">\n",
       "      <th></th>\n",
       "      <th>votes_helpful</th>\n",
       "    </tr>\n",
       "  </thead>\n",
       "  <tbody>\n",
       "    <tr>\n",
       "      <th>count</th>\n",
       "      <td>799207.000000</td>\n",
       "    </tr>\n",
       "    <tr>\n",
       "      <th>mean</th>\n",
       "      <td>3.572162</td>\n",
       "    </tr>\n",
       "    <tr>\n",
       "      <th>std</th>\n",
       "      <td>59.777021</td>\n",
       "    </tr>\n",
       "    <tr>\n",
       "      <th>min</th>\n",
       "      <td>0.000000</td>\n",
       "    </tr>\n",
       "    <tr>\n",
       "      <th>25%</th>\n",
       "      <td>0.000000</td>\n",
       "    </tr>\n",
       "    <tr>\n",
       "      <th>50%</th>\n",
       "      <td>0.000000</td>\n",
       "    </tr>\n",
       "    <tr>\n",
       "      <th>75%</th>\n",
       "      <td>1.000000</td>\n",
       "    </tr>\n",
       "    <tr>\n",
       "      <th>max</th>\n",
       "      <td>26149.000000</td>\n",
       "    </tr>\n",
       "  </tbody>\n",
       "</table>\n",
       "</div>"
      ],
      "text/plain": [
       "       votes_helpful\n",
       "count  799207.000000\n",
       "mean        3.572162\n",
       "std        59.777021\n",
       "min         0.000000\n",
       "25%         0.000000\n",
       "50%         0.000000\n",
       "75%         1.000000\n",
       "max     26149.000000"
      ]
     },
     "execution_count": 160,
     "metadata": {},
     "output_type": "execute_result"
    }
   ],
   "source": [
    "top_voted_reviews.describe()"
   ]
  },
  {
   "cell_type": "code",
   "execution_count": 13,
   "id": "f2895fdb",
   "metadata": {},
   "outputs": [
    {
     "name": "stderr",
     "output_type": "stream",
     "text": [
      "/Users/zhengyanlin/opt/anaconda3/lib/python3.9/site-packages/scipy/__init__.py:146: UserWarning: A NumPy version >=1.16.5 and <1.23.0 is required for this version of SciPy (detected version 1.23.1\n",
      "  warnings.warn(f\"A NumPy version >={np_minversion} and <{np_maxversion}\"\n"
     ]
    }
   ],
   "source": [
    "import seaborn as sns\n",
    "%matplotlib inline"
   ]
  },
  {
   "cell_type": "code",
   "execution_count": 11,
   "id": "af74e545",
   "metadata": {},
   "outputs": [
    {
     "data": {
      "text/plain": [
       "<AxesSubplot:xlabel='votes_helpful'>"
      ]
     },
     "execution_count": 11,
     "metadata": {},
     "output_type": "execute_result"
    },
    {
     "data": {
      "image/png": "[encoded data removed]",
      "text/plain": [
       "<Figure size 432x288 with 1 Axes>"
      ]
     },
     "metadata": {
      "needs_background": "light"
     },
     "output_type": "display_data"
    }
   ],
   "source": [
    "sns.boxplot(x=top_voted_reviews[\"votes_helpful\"])"
   ]
  },
  {
   "cell_type": "code",
   "execution_count": 15,
   "id": "3b7f51e5",
   "metadata": {},
   "outputs": [
    {
     "data": {
      "text/html": [
       "<div>\n",
       "<style scoped>\n",
       "    .dataframe tbody tr th:only-of-type {\n",
       "        vertical-align: middle;\n",
       "    }\n",
       "\n",
       "    .dataframe tbody tr th {\n",
       "        vertical-align: top;\n",
       "    }\n",
       "\n",
       "    .dataframe thead th {\n",
       "        text-align: right;\n",
       "    }\n",
       "</style>\n",
       "<table border=\"1\" class=\"dataframe\">\n",
       "  <thead>\n",
       "    <tr style=\"text-align: right;\">\n",
       "      <th></th>\n",
       "      <th>steam_id</th>\n",
       "      <th>review_id</th>\n",
       "    </tr>\n",
       "  </thead>\n",
       "  <tbody>\n",
       "    <tr>\n",
       "      <th>601311</th>\n",
       "      <td>76561198315585536</td>\n",
       "      <td>22</td>\n",
       "    </tr>\n",
       "    <tr>\n",
       "      <th>523813</th>\n",
       "      <td>76561198239163744</td>\n",
       "      <td>18</td>\n",
       "    </tr>\n",
       "    <tr>\n",
       "      <th>225369</th>\n",
       "      <td>76561198062813911</td>\n",
       "      <td>18</td>\n",
       "    </tr>\n",
       "    <tr>\n",
       "      <th>241599</th>\n",
       "      <td>76561198068116100</td>\n",
       "      <td>16</td>\n",
       "    </tr>\n",
       "    <tr>\n",
       "      <th>175478</th>\n",
       "      <td>76561198045381877</td>\n",
       "      <td>15</td>\n",
       "    </tr>\n",
       "    <tr>\n",
       "      <th>...</th>\n",
       "      <td>...</td>\n",
       "      <td>...</td>\n",
       "    </tr>\n",
       "    <tr>\n",
       "      <th>279415</th>\n",
       "      <td>76561198081132038</td>\n",
       "      <td>1</td>\n",
       "    </tr>\n",
       "    <tr>\n",
       "      <th>279416</th>\n",
       "      <td>76561198081132150</td>\n",
       "      <td>1</td>\n",
       "    </tr>\n",
       "    <tr>\n",
       "      <th>279417</th>\n",
       "      <td>76561198081132361</td>\n",
       "      <td>1</td>\n",
       "    </tr>\n",
       "    <tr>\n",
       "      <th>279418</th>\n",
       "      <td>76561198081132539</td>\n",
       "      <td>1</td>\n",
       "    </tr>\n",
       "    <tr>\n",
       "      <th>799206</th>\n",
       "      <td>76561199132116020</td>\n",
       "      <td>1</td>\n",
       "    </tr>\n",
       "  </tbody>\n",
       "</table>\n",
       "<p>799207 rows × 2 columns</p>\n",
       "</div>"
      ],
      "text/plain": [
       "                 steam_id  review_id\n",
       "601311  76561198315585536         22\n",
       "523813  76561198239163744         18\n",
       "225369  76561198062813911         18\n",
       "241599  76561198068116100         16\n",
       "175478  76561198045381877         15\n",
       "...                   ...        ...\n",
       "279415  76561198081132038          1\n",
       "279416  76561198081132150          1\n",
       "279417  76561198081132361          1\n",
       "279418  76561198081132539          1\n",
       "799206  76561199132116020          1\n",
       "\n",
       "[799207 rows x 2 columns]"
      ]
     },
     "execution_count": 15,
     "metadata": {},
     "output_type": "execute_result"
    }
   ],
   "source": [
    "most_reviews=df.groupby('steam_id')['review_id'].count().reset_index().sort_values('review_id',ascending=False)\n",
    "most_reviews"
   ]
  },
  {
   "cell_type": "code",
   "execution_count": 162,
   "id": "e69be0e7",
   "metadata": {},
   "outputs": [
    {
     "data": {
      "text/html": [
       "<div>\n",
       "<style scoped>\n",
       "    .dataframe tbody tr th:only-of-type {\n",
       "        vertical-align: middle;\n",
       "    }\n",
       "\n",
       "    .dataframe tbody tr th {\n",
       "        vertical-align: top;\n",
       "    }\n",
       "\n",
       "    .dataframe thead th {\n",
       "        text-align: right;\n",
       "    }\n",
       "</style>\n",
       "<table border=\"1\" class=\"dataframe\">\n",
       "  <thead>\n",
       "    <tr style=\"text-align: right;\">\n",
       "      <th></th>\n",
       "      <th>review_id</th>\n",
       "    </tr>\n",
       "  </thead>\n",
       "  <tbody>\n",
       "    <tr>\n",
       "      <th>count</th>\n",
       "      <td>799207.000000</td>\n",
       "    </tr>\n",
       "    <tr>\n",
       "      <th>mean</th>\n",
       "      <td>1.087795</td>\n",
       "    </tr>\n",
       "    <tr>\n",
       "      <th>std</th>\n",
       "      <td>0.367708</td>\n",
       "    </tr>\n",
       "    <tr>\n",
       "      <th>min</th>\n",
       "      <td>1.000000</td>\n",
       "    </tr>\n",
       "    <tr>\n",
       "      <th>25%</th>\n",
       "      <td>1.000000</td>\n",
       "    </tr>\n",
       "    <tr>\n",
       "      <th>50%</th>\n",
       "      <td>1.000000</td>\n",
       "    </tr>\n",
       "    <tr>\n",
       "      <th>75%</th>\n",
       "      <td>1.000000</td>\n",
       "    </tr>\n",
       "    <tr>\n",
       "      <th>max</th>\n",
       "      <td>22.000000</td>\n",
       "    </tr>\n",
       "  </tbody>\n",
       "</table>\n",
       "</div>"
      ],
      "text/plain": [
       "           review_id\n",
       "count  799207.000000\n",
       "mean        1.087795\n",
       "std         0.367708\n",
       "min         1.000000\n",
       "25%         1.000000\n",
       "50%         1.000000\n",
       "75%         1.000000\n",
       "max        22.000000"
      ]
     },
     "execution_count": 162,
     "metadata": {},
     "output_type": "execute_result"
    }
   ],
   "source": [
    "most_reviews.describe()"
   ]
  },
  {
   "cell_type": "code",
   "execution_count": 131,
   "id": "da476b57",
   "metadata": {},
   "outputs": [
    {
     "data": {
      "text/plain": [
       "[Text(0.5, 1.0, 'histogram, Reviews per Reviewer')]"
      ]
     },
     "execution_count": 131,
     "metadata": {},
     "output_type": "execute_result"
    },
    {
     "data": {
      "image/png": "[encoded data removed]",
      "text/plain": [
       "<Figure size 432x288 with 1 Axes>"
      ]
     },
     "metadata": {
      "needs_background": "light"
     },
     "output_type": "display_data"
    }
   ],
   "source": [
    "sns.histplot(data=most_reviews,x=\"review_id\").set(title='histogram, Reviews per Reviewer')"
   ]
  },
  {
   "cell_type": "code",
   "execution_count": 132,
   "id": "77bf020f",
   "metadata": {},
   "outputs": [
    {
     "data": {
      "text/plain": [
       "<AxesSubplot:xlabel='review_id'>"
      ]
     },
     "execution_count": 132,
     "metadata": {},
     "output_type": "execute_result"
    },
    {
     "data": {
      "image/png": "[encoded data removed]",
      "text/plain": [
       "<Figure size 432x288 with 1 Axes>"
      ]
     },
     "metadata": {
      "needs_background": "light"
     },
     "output_type": "display_data"
    }
   ],
   "source": [
    "sns.boxplot(x=most_reviews[\"review_id\"])"
   ]
  },
  {
   "cell_type": "code",
   "execution_count": 16,
   "id": "6a903439",
   "metadata": {},
   "outputs": [],
   "source": [
    "ohw=pd.merge(left=top_voted_reviews,right=most_reviews, on='steam_id',how='inner')"
   ]
  },
  {
   "cell_type": "code",
   "execution_count": 17,
   "id": "de1398b9",
   "metadata": {},
   "outputs": [],
   "source": [
    "ohw.rename(columns={'review_id':'num_review'},inplace=True)"
   ]
  },
  {
   "cell_type": "code",
   "execution_count": 18,
   "id": "06f9424f",
   "metadata": {},
   "outputs": [],
   "source": [
    "# https://www.statology.org/pareto-chart-python/\n",
    "# Let's create a Pareto Chart using the data from the website above"
   ]
  },
  {
   "cell_type": "code",
   "execution_count": 20,
   "id": "d3f76cd0",
   "metadata": {},
   "outputs": [],
   "source": [
    "#create a table for the count of steam_id (users) for every number of reviews"
   ]
  },
  {
   "cell_type": "code",
   "execution_count": 21,
   "id": "6d2ad670",
   "metadata": {},
   "outputs": [],
   "source": [
    "review_count=ohw.groupby('num_review')['steam_id'].count().reset_index()"
   ]
  },
  {
   "cell_type": "code",
   "execution_count": 22,
   "id": "ac9fcb2a",
   "metadata": {},
   "outputs": [],
   "source": [
    "#add column to display cumulative percentage\n",
    "#the table shows vast majority of users only give one review\n",
    "review_count['cumperc'] = review_count['steam_id'].cumsum()/review_count['steam_id'].sum()*100\n",
    "review_count.set_index('num_review', inplace=True)"
   ]
  },
  {
   "cell_type": "code",
   "execution_count": 40,
   "id": "f0d6855b",
   "metadata": {},
   "outputs": [
    {
     "data": {
      "image/png": "[encoded data removed]",
      "text/plain": [
       "<Figure size 432x288 with 2 Axes>"
      ]
     },
     "metadata": {
      "needs_background": "light"
     },
     "output_type": "display_data"
    }
   ],
   "source": [
    "import matplotlib.pyplot as plt\n",
    "from matplotlib.ticker import PercentFormatter\n",
    "\n",
    "#define aesthetics for plot\n",
    "color1 = 'steelblue'\n",
    "color2 = 'red'\n",
    "line_size = 4\n",
    "\n",
    "#create basic bar plot\n",
    "fig, ax = plt.subplots()\n",
    "ax.bar(review_count.index, review_count['steam_id'], color=color1)\n",
    "#ax.set_xticks(review_count.index, review_count['num_review'].values)\n",
    "\n",
    "#add cumulative percentage line to plot\n",
    "ax2 = ax.twinx()\n",
    "ax2.plot(review_count.index, review_count['cumperc'], color=color2, marker=\"D\", ms=line_size)\n",
    "ax2.yaxis.set_major_formatter(PercentFormatter())\n",
    "\n",
    "#specify axis colors\n",
    "ax.tick_params(axis='y', colors=color1)\n",
    "ax2.tick_params(axis='y', colors=color2)\n",
    "\n",
    "#display Pareto chart\n",
    "plt.show()"
   ]
  },
  {
   "cell_type": "code",
   "execution_count": 41,
   "id": "9e4a261a",
   "metadata": {},
   "outputs": [],
   "source": [
    "#from the above pareto chart we can see only use votes_helpful as the metric to select best reviewers may not be effective, \n",
    "#becasue there are many one hit wonders, we may also need to consider using number of reviews as another metric."
   ]
  },
  {
   "cell_type": "code",
   "execution_count": 20,
   "id": "c8facd79",
   "metadata": {},
   "outputs": [],
   "source": [
    "import ipywidgets as widgets\n",
    "from ipywidgets import interact, interact_manual"
   ]
  },
  {
   "cell_type": "code",
   "execution_count": 37,
   "id": "7a82a696",
   "metadata": {},
   "outputs": [
    {
     "data": {
      "text/html": [
       "<div>\n",
       "<style scoped>\n",
       "    .dataframe tbody tr th:only-of-type {\n",
       "        vertical-align: middle;\n",
       "    }\n",
       "\n",
       "    .dataframe tbody tr th {\n",
       "        vertical-align: top;\n",
       "    }\n",
       "\n",
       "    .dataframe thead th {\n",
       "        text-align: right;\n",
       "    }\n",
       "</style>\n",
       "<table border=\"1\" class=\"dataframe\">\n",
       "  <thead>\n",
       "    <tr style=\"text-align: right;\">\n",
       "      <th></th>\n",
       "      <th>steam_id</th>\n",
       "      <th>votes_helpful</th>\n",
       "      <th>num_review</th>\n",
       "    </tr>\n",
       "  </thead>\n",
       "  <tbody>\n",
       "    <tr>\n",
       "      <th>0</th>\n",
       "      <td>76561198301678331</td>\n",
       "      <td>26149.0</td>\n",
       "      <td>1</td>\n",
       "    </tr>\n",
       "    <tr>\n",
       "      <th>1</th>\n",
       "      <td>76561198068792591</td>\n",
       "      <td>15526.0</td>\n",
       "      <td>1</td>\n",
       "    </tr>\n",
       "    <tr>\n",
       "      <th>2</th>\n",
       "      <td>76561198107977827</td>\n",
       "      <td>14349.0</td>\n",
       "      <td>1</td>\n",
       "    </tr>\n",
       "    <tr>\n",
       "      <th>3</th>\n",
       "      <td>76561198060932732</td>\n",
       "      <td>10610.0</td>\n",
       "      <td>2</td>\n",
       "    </tr>\n",
       "    <tr>\n",
       "      <th>4</th>\n",
       "      <td>76561198193312194</td>\n",
       "      <td>10495.0</td>\n",
       "      <td>1</td>\n",
       "    </tr>\n",
       "    <tr>\n",
       "      <th>...</th>\n",
       "      <td>...</td>\n",
       "      <td>...</td>\n",
       "      <td>...</td>\n",
       "    </tr>\n",
       "    <tr>\n",
       "      <th>799202</th>\n",
       "      <td>76561198038847694</td>\n",
       "      <td>0.0</td>\n",
       "      <td>1</td>\n",
       "    </tr>\n",
       "    <tr>\n",
       "      <th>799203</th>\n",
       "      <td>76561198158003620</td>\n",
       "      <td>0.0</td>\n",
       "      <td>2</td>\n",
       "    </tr>\n",
       "    <tr>\n",
       "      <th>799204</th>\n",
       "      <td>76561198158002751</td>\n",
       "      <td>0.0</td>\n",
       "      <td>1</td>\n",
       "    </tr>\n",
       "    <tr>\n",
       "      <th>799205</th>\n",
       "      <td>76561198158001692</td>\n",
       "      <td>0.0</td>\n",
       "      <td>1</td>\n",
       "    </tr>\n",
       "    <tr>\n",
       "      <th>799206</th>\n",
       "      <td>76561199132116020</td>\n",
       "      <td>0.0</td>\n",
       "      <td>1</td>\n",
       "    </tr>\n",
       "  </tbody>\n",
       "</table>\n",
       "<p>799207 rows × 3 columns</p>\n",
       "</div>"
      ],
      "text/plain": [
       "                 steam_id  votes_helpful  num_review\n",
       "0       76561198301678331        26149.0           1\n",
       "1       76561198068792591        15526.0           1\n",
       "2       76561198107977827        14349.0           1\n",
       "3       76561198060932732        10610.0           2\n",
       "4       76561198193312194        10495.0           1\n",
       "...                   ...            ...         ...\n",
       "799202  76561198038847694            0.0           1\n",
       "799203  76561198158003620            0.0           2\n",
       "799204  76561198158002751            0.0           1\n",
       "799205  76561198158001692            0.0           1\n",
       "799206  76561199132116020            0.0           1\n",
       "\n",
       "[799207 rows x 3 columns]"
      ]
     },
     "execution_count": 37,
     "metadata": {},
     "output_type": "execute_result"
    }
   ],
   "source": [
    "ohw"
   ]
  },
  {
   "cell_type": "code",
   "execution_count": null,
   "id": "698497dd",
   "metadata": {},
   "outputs": [],
   "source": [
    "#create sldier for variable votes"
   ]
  },
  {
   "cell_type": "code",
   "execution_count": 152,
   "id": "55d50926",
   "metadata": {},
   "outputs": [],
   "source": [
    "output_slider_votes = widgets.Text()"
   ]
  },
  {
   "cell_type": "code",
   "execution_count": 208,
   "id": "ecf9aebf",
   "metadata": {},
   "outputs": [
    {
     "data": {
      "application/vnd.jupyter.widget-view+json": {
       "model_id": "f86770975dfb48c2af5fc06d9786a7b3",
       "version_major": 2,
       "version_minor": 0
      },
      "text/plain": [
       "interactive(children=(IntSlider(value=5001, description='votes_helpful', max=10050, min=1, step=50), Output())…"
      ]
     },
     "metadata": {},
     "output_type": "display_data"
    },
    {
     "data": {
      "text/plain": [
       "<function __main__.votes(votes_helpful)>"
      ]
     },
     "execution_count": 208,
     "metadata": {},
     "output_type": "execute_result"
    }
   ],
   "source": [
    "def votes(votes_helpful):\n",
    "    output_slider_votes.value = str(votes_helpful)\n",
    "interact(votes, votes_helpful=(1,10050,50))"
   ]
  },
  {
   "cell_type": "code",
   "execution_count": 223,
   "id": "b62bb391",
   "metadata": {},
   "outputs": [
    {
     "name": "stdout",
     "output_type": "stream",
     "text": [
      "101\n"
     ]
    }
   ],
   "source": [
    "output_slider_votes\n",
    "\n",
    "votes_variable = int(output_slider_votes.value)\n",
    "print(votes_variable)"
   ]
  },
  {
   "cell_type": "code",
   "execution_count": null,
   "id": "5b32b596",
   "metadata": {},
   "outputs": [],
   "source": [
    "#create sldier for variable reviews"
   ]
  },
  {
   "cell_type": "code",
   "execution_count": 160,
   "id": "0a2a2c4a",
   "metadata": {},
   "outputs": [],
   "source": [
    "output_slider_reviews = widgets.Text()"
   ]
  },
  {
   "cell_type": "code",
   "execution_count": 161,
   "id": "b309d34e",
   "metadata": {},
   "outputs": [
    {
     "data": {
      "application/vnd.jupyter.widget-view+json": {
       "model_id": "71bc861d7b8f4bc8bb85d03efea90ea1",
       "version_major": 2,
       "version_minor": 0
      },
      "text/plain": [
       "interactive(children=(IntSlider(value=11, description='num_reviews', max=22, min=1), Output()), _dom_classes=(…"
      ]
     },
     "metadata": {},
     "output_type": "display_data"
    },
    {
     "data": {
      "text/plain": [
       "<function __main__.reviews(num_reviews)>"
      ]
     },
     "execution_count": 161,
     "metadata": {},
     "output_type": "execute_result"
    }
   ],
   "source": [
    "def reviews(num_reviews):\n",
    "    output_slider_reviews.value = str(num_reviews)\n",
    "interact(reviews, num_reviews=(1,22,1))"
   ]
  },
  {
   "cell_type": "code",
   "execution_count": 186,
   "id": "7c8be8ba",
   "metadata": {},
   "outputs": [
    {
     "name": "stdout",
     "output_type": "stream",
     "text": [
      "2\n"
     ]
    }
   ],
   "source": [
    "output_slider_reviews\n",
    "\n",
    "reviews_variable = int(output_slider_reviews.value)\n",
    "print(reviews_variable)"
   ]
  },
  {
   "cell_type": "code",
   "execution_count": 224,
   "id": "2af37101",
   "metadata": {},
   "outputs": [
    {
     "name": "stdout",
     "output_type": "stream",
     "text": [
      "cohort Size: 1021\n"
     ]
    }
   ],
   "source": [
    "#create new list with constrains using masking\n",
    "top_reviewers=ohw[(ohw['votes_helpful']>=votes_variable)&(ohw['num_review']>=reviews_variable)]['steam_id'].values\n",
    "\n",
    "print('cohort Size:', len(top_reviewers))"
   ]
  },
  {
   "cell_type": "code",
   "execution_count": 225,
   "id": "3537f3b0",
   "metadata": {},
   "outputs": [
    {
     "data": {
      "text/plain": [
       "1021"
      ]
     },
     "execution_count": 225,
     "metadata": {},
     "output_type": "execute_result"
    }
   ],
   "source": [
    "#create new table to only include top reviewers, thus I can focus on the targeted users to understand thier behaviors and make data driven decisions\n",
    "top_reviewers_df=df[df['steam_id'].isin(top_reviewers)]\n",
    "top_reviewers_df['steam_id'].nunique()"
   ]
  },
  {
   "cell_type": "code",
   "execution_count": 194,
   "id": "774896c5",
   "metadata": {},
   "outputs": [
    {
     "name": "stderr",
     "output_type": "stream",
     "text": [
      "/Users/zhengyanlin/opt/anaconda3/lib/python3.9/site-packages/pandas/core/frame.py:5039: SettingWithCopyWarning: \n",
      "A value is trying to be set on a copy of a slice from a DataFrame\n",
      "\n",
      "See the caveats in the documentation: https://pandas.pydata.org/pandas-docs/stable/user_guide/indexing.html#returning-a-view-versus-a-copy\n",
      "  return super().rename(\n"
     ]
    }
   ],
   "source": [
    "top_reviewers_df.rename(columns={'author.num_games_owned':'author_num_games_owned', 'author.num_reviews':'author_num_reviews',\n",
    "                                'author.playtime_forever':'author_playtime_forever', 'author.playtime_last_two_weeks':'author_playtime_last_two_weeks',\n",
    "                                 'author.playtime_at_review': 'author_playtime_at_review','author.last_played':'author_last_played'},inplace=True)"
   ]
  },
  {
   "cell_type": "code",
   "execution_count": 66,
   "id": "82952921",
   "metadata": {},
   "outputs": [],
   "source": [
    "#Reviewer analysis: number of games; playtime per game reviewed\n",
    "#Review analysis: character length of average review; average comments"
   ]
  },
  {
   "cell_type": "code",
   "execution_count": 196,
   "id": "48b2d50d",
   "metadata": {},
   "outputs": [],
   "source": [
    "##number of games\n",
    "num_games_owned=top_reviewers_df.groupby('steam_id')['author_num_games_owned'].max().reset_index()"
   ]
  },
  {
   "cell_type": "code",
   "execution_count": 197,
   "id": "7e0c73b6",
   "metadata": {},
   "outputs": [
    {
     "data": {
      "text/plain": [
       "[Text(0.5, 1.0, 'histogram, number of game owned')]"
      ]
     },
     "execution_count": 197,
     "metadata": {},
     "output_type": "execute_result"
    },
    {
     "data": {
      "image/png": "[encoded data removed]",
      "text/plain": [
       "<Figure size 432x288 with 1 Axes>"
      ]
     },
     "metadata": {
      "needs_background": "light"
     },
     "output_type": "display_data"
    }
   ],
   "source": [
    "sns.histplot(data=num_games_owned,x=\"author_num_games_owned\").set(title='histogram, number of game owned')"
   ]
  },
  {
   "cell_type": "code",
   "execution_count": 200,
   "id": "10d38f5b",
   "metadata": {},
   "outputs": [
    {
     "name": "stderr",
     "output_type": "stream",
     "text": [
      "/var/folders/gp/qc2d12610117rn9s1m2xzkxw0000gn/T/ipykernel_21693/717635417.py:2: FutureWarning: Indexing with multiple keys (implicitly converted to a tuple of keys) will be deprecated, use a list instead.\n",
      "  playtime=top_reviewers_df.groupby('steam_id')['author_num_games_owned','author_playtime_forever'].max().reset_index()\n"
     ]
    }
   ],
   "source": [
    "##playtime per game reviewed\n",
    "playtime=top_reviewers_df.groupby('steam_id')['author_num_games_owned','author_playtime_forever'].max().reset_index()\n",
    "playtime['playtime_per_game']=playtime['author_playtime_forever']/playtime['author_num_games_owned']"
   ]
  },
  {
   "cell_type": "code",
   "execution_count": 227,
   "id": "22bb73ac",
   "metadata": {},
   "outputs": [
    {
     "data": {
      "text/plain": [
       "[Text(0.5, 1.0, 'histogram, playtime per game')]"
      ]
     },
     "execution_count": 227,
     "metadata": {},
     "output_type": "execute_result"
    },
    {
     "data": {
      "image/png": "[encoded data removed]",
      "text/plain": [
       "<Figure size 432x288 with 2 Axes>"
      ]
     },
     "metadata": {
      "needs_background": "light"
     },
     "output_type": "display_data"
    }
   ],
   "source": [
    "import matplotlib.pyplot as plt\n",
    "import numpy as np\n",
    "\n",
    "fig, axes = plt.subplots(1, 2)\n",
    "sns.histplot(ax=axes[0], data=playtime,x=\"playtime_per_game\").set(title='histogram, playtime per game')\n",
    "\n",
    "sns.histplot(ax=axes[1], data=playtime[playtime['playtime_per_game']<800],x=\"playtime_per_game\").set(title='histogram, playtime per game')"
   ]
  },
  {
   "cell_type": "code",
   "execution_count": 99,
   "id": "62eb64fb",
   "metadata": {},
   "outputs": [],
   "source": [
    "##character length of average review"
   ]
  },
  {
   "cell_type": "code",
   "execution_count": 228,
   "id": "dee19dd4",
   "metadata": {},
   "outputs": [
    {
     "name": "stderr",
     "output_type": "stream",
     "text": [
      "/var/folders/gp/qc2d12610117rn9s1m2xzkxw0000gn/T/ipykernel_21693/1319352608.py:1: SettingWithCopyWarning: \n",
      "A value is trying to be set on a copy of a slice from a DataFrame.\n",
      "Try using .loc[row_indexer,col_indexer] = value instead\n",
      "\n",
      "See the caveats in the documentation: https://pandas.pydata.org/pandas-docs/stable/user_guide/indexing.html#returning-a-view-versus-a-copy\n",
      "  top_reviewers_df['review_len']=top_reviewers_df['review'].str.len()\n"
     ]
    },
    {
     "data": {
      "text/plain": [
       "[Text(0.5, 1.0, 'histogram, review length')]"
      ]
     },
     "execution_count": 228,
     "metadata": {},
     "output_type": "execute_result"
    },
    {
     "data": {
      "image/png": "[encoded data removed]",
      "text/plain": [
       "<Figure size 432x288 with 1 Axes>"
      ]
     },
     "metadata": {
      "needs_background": "light"
     },
     "output_type": "display_data"
    }
   ],
   "source": [
    "top_reviewers_df['review_len']=top_reviewers_df['review'].str.len()\n",
    "#top_reviewers_df.head(1)\n",
    "sns.histplot(data=top_reviewers_df['review_len']).set(title='histogram, review length')"
   ]
  },
  {
   "cell_type": "code",
   "execution_count": 107,
   "id": "b27c9d81",
   "metadata": {},
   "outputs": [],
   "source": [
    "##average comments"
   ]
  },
  {
   "cell_type": "code",
   "execution_count": 229,
   "id": "d4cd0e75",
   "metadata": {},
   "outputs": [
    {
     "data": {
      "image/png": "[encoded data removed]",
      "text/plain": [
       "<Figure size 432x288 with 1 Axes>"
      ]
     },
     "metadata": {
      "needs_background": "light"
     },
     "output_type": "display_data"
    }
   ],
   "source": [
    "fig, ax = plt.subplots()\n",
    "sns.histplot(data=top_reviewers_df,x='comment_count').set(title='histogram, comments count')\n",
    "ax.set_ylim([0, 200])\n",
    "ax.set_xlim([0, 100])\n",
    "plt.show()"
   ]
  },
  {
   "cell_type": "code",
   "execution_count": 168,
   "id": "a4c32b42",
   "metadata": {},
   "outputs": [
    {
     "name": "stdout",
     "output_type": "stream",
     "text": [
      "cohort Size: 11\n"
     ]
    }
   ],
   "source": [
    "#one_hit_wonder cohort\n",
    "one_hit_wonder=ohw[(ohw['votes_helpful']>=5000)&(ohw['num_review']==1)]['steam_id'].values\n",
    "cohort_size=len(one_hit_wonder)\n",
    "print('cohort Size:', cohort_size)"
   ]
  }
 ],
 "metadata": {
  "kernelspec": {
   "display_name": "Python 3 (ipykernel)",
   "language": "python",
   "name": "python3"
  },
  "language_info": {
   "codemirror_mode": {
    "name": "ipython",
    "version": 3
   },
   "file_extension": ".py",
   "mimetype": "text/x-python",
   "name": "python",
   "nbconvert_exporter": "python",
   "pygments_lexer": "ipython3",
   "version": "3.9.7"
  }
 },
 "nbformat": 4,
 "nbformat_minor": 5
}
